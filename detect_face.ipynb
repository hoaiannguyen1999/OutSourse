{
  "nbformat": 4,
  "nbformat_minor": 0,
  "metadata": {
    "colab": {
      "name": "detect_face.ipynb",
      "provenance": [],
      "collapsed_sections": [],
      "authorship_tag": "ABX9TyMqoVzDnj0RuExV6dh1bRnh",
      "include_colab_link": true
    },
    "kernelspec": {
      "name": "python3",
      "display_name": "Python 3"
    },
    "language_info": {
      "name": "python"
    },
    "accelerator": "GPU"
  },
  "cells": [
    {
      "cell_type": "markdown",
      "metadata": {
        "id": "view-in-github",
        "colab_type": "text"
      },
      "source": [
        "<a href=\"https://colab.research.google.com/github/hoaiannguyen1999/OutSourse/blob/main/detect_face.ipynb\" target=\"_parent\"><img src=\"https://colab.research.google.com/assets/colab-badge.svg\" alt=\"Open In Colab\"/></a>"
      ]
    },
    {
      "cell_type": "code",
      "execution_count": null,
      "metadata": {
        "id": "IWhJ1fNW3rKx"
      },
      "outputs": [],
      "source": [
        "#In this project -> We will detect the person face by using "
      ]
    },
    {
      "cell_type": "code",
      "source": [
        "from google.colab import drive\n",
        "drive.mount('/content/drive')\n",
        "from pandas.core.algorithms import mode\n",
        "import numpy as np\n",
        "import matplotlib.pyplot as plt\n",
        "from keras.models import Sequential\n",
        "from keras.layers import Dense\n",
        "from tensorflow import keras\n",
        "from tensorflow.keras import layers\n",
        "from keras.utils.np_utils import to_categorical\n",
        "from keras.layers import Dropout, Flatten\n",
        "from keras.layers.convolutional import Conv2D, MaxPooling2D\n",
        "import cv2\n",
        "from sklearn.model_selection import train_test_split\n",
        "import pickle\n",
        "import os\n",
        "import pandas as pd\n",
        "import random\n",
        "from keras.preprocessing.image import ImageDataGenerator\n",
        "from pathlib import Path\n",
        "from google.colab.patches import cv2_imshow\n",
        "\n",
        "drivePath = 'drive/MyDrive/AI/detect_face/' #put your link here\n",
        "path = Path(drivePath)\n",
        "print(path)"
      ],
      "metadata": {
        "colab": {
          "base_uri": "https://localhost:8080/"
        },
        "id": "i5k24BxX823h",
        "outputId": "e5103cdd-2ddb-41ec-9024-4208d1091f54"
      },
      "execution_count": null,
      "outputs": [
        {
          "output_type": "stream",
          "name": "stdout",
          "text": [
            "Drive already mounted at /content/drive; to attempt to forcibly remount, call drive.mount(\"/content/drive\", force_remount=True).\n",
            "drive/MyDrive/AI/detect_face\n"
          ]
        }
      ]
    },
    {
      "cell_type": "code",
      "source": [
        "lableFile = Path('drive/MyDrive/AI/name.csv') #file excel label all names of class"
      ],
      "metadata": {
        "id": "KPpzGhJa-ce6"
      },
      "execution_count": null,
      "outputs": []
    },
    {
      "cell_type": "code",
      "source": [
        "count = 0\n",
        "images = []\n",
        "classNo = []\n",
        "myList = os.listdir(path)  #need to modify this code\n",
        "noOfClasses = len(myList)\n",
        "print(\"Load classes ....\")\n",
        "for x in range (0,len(myList)):\n",
        "    myPicList = os.listdir(str(path) + \"/\" + str(count))\n",
        "    for y in myPicList:\n",
        "        curImg = cv2.imread(str(path)+\"/\"+str(count)+\"/\"+y)\n",
        "        curImg = cv2.resize(curImg,(32,32))\n",
        "        images.append(curImg)\n",
        "        classNo.append(count)\n",
        "    print(count, end=\" \")\n",
        "    count +=1\n",
        "print(\" \")\n",
        "images = np.array(images)\n",
        "classNo = np.array(classNo)"
      ],
      "metadata": {
        "colab": {
          "base_uri": "https://localhost:8080/"
        },
        "id": "sz_HInU4_C-r",
        "outputId": "ea8a9fb8-9aca-44ef-cf08-1bba22c1b3a8"
      },
      "execution_count": null,
      "outputs": [
        {
          "output_type": "stream",
          "name": "stdout",
          "text": [
            "Load classes ....\n",
            "0 1 2  \n"
          ]
        }
      ]
    },
    {
      "cell_type": "code",
      "source": [
        "batch_size_val = 4\n",
        "step_per_epoch_val = 50\n",
        "epochs_val=  4\n",
        "imageDimensions = (32,32,3)\n",
        "testRatio = 0.2\n",
        "validationRatio = 0.2\n",
        "\n",
        "x_train, x_test, y_train, y_test = train_test_split(images,classNo,test_size = testRatio)\n",
        "x_train, x_validation, y_train, y_validation = train_test_split(x_train, y_train, test_size = validationRatio)\n",
        "print(\"Data Shapes\")\n",
        "print(\"Train\",end=\"\");print(x_train.shape,y_train.shape)\n",
        "\n",
        "#data = pd.read_csv(lableFile, sep='delimiter', header=None)\n",
        "data = pd.read_csv(lableFile)\n",
        "print(\"data shape\",data.shape,type(data))\n",
        "\n",
        "num_of_samples = []\n",
        "cols = 5\n",
        "num_classes = noOfClasses\n",
        "fig,axs = plt.subplots(nrows=num_classes, ncols=cols, figsize=(10,100))\n",
        "fig.tight_layout()\n",
        "for i in range(cols):\n",
        "    for j,row in data.iterrows():\n",
        "        x_selected = x_train[y_train == j]\n",
        "        axs[j][i].imshow(x_selected[random.randint(0,len(x_selected)-1), :, :], cmap=plt.get_cmap(\"gray\"))\n",
        "        axs[j][i].axis(\"off\")\n",
        "        if i ==2:\n",
        "            axs[j][i].set_title(str(j)+ \"-\"+row[\"Name\"])\n",
        "            num_of_samples.append(len(x_selected))\n",
        "\n",
        "print(num_of_samples)\n",
        "plt.figure(figsize=(12,4))\n",
        "plt.bar(range(0,num_classes),num_of_samples)\n",
        "plt.title(\"Distribution of trainning data\")\n",
        "plt.xlabel(\"class number\")\n",
        "plt.ylabel(\"Number of image\")\n",
        "plt.show()\n"
      ],
      "metadata": {
        "id": "_lsFvEk9_OMH"
      },
      "execution_count": null,
      "outputs": []
    },
    {
      "cell_type": "code",
      "source": [
        "def grayscale(img):\n",
        "    img = cv2.cvtColor(img, cv2.COLOR_BGR2GRAY)\n",
        "    return img\n",
        "\n",
        "def equalize(img):\n",
        "    img = cv2.equalizeHist(img)\n",
        "    return img\n",
        "    \n",
        "def preprocessing(img):\n",
        "    img = grayscale(img)\n",
        "    img = equalize(img)\n",
        "    img = img/255\n",
        "    return img\n",
        "\n",
        "\n",
        "x_train = np.array(list(map(preprocessing,x_train)))\n",
        "x_validation = np.array(list(map(preprocessing,x_validation)))\n",
        "x_test = np.array(list(map(preprocessing,x_test)))\n",
        "#cv2.imshow(\"Grayscale images \", x_train[random.randint(0,len(x_train)-1)])\n",
        "\n",
        "x_train = x_train.reshape(x_train.shape[0],x_train.shape[1],x_train.shape[2],1)\n",
        "x_validation=x_validation.reshape(x_validation.shape[0],x_validation.shape[1],x_validation.shape[2],1)\n",
        "x_test=x_test.reshape(x_test.shape[0],x_test.shape[1],x_test.shape[2],1)\n",
        "\n",
        "dataGen = ImageDataGenerator(width_shift_range=0.1,\n",
        "                                height_shift_range =0.1,\n",
        "                                zoom_range=0.2,\n",
        "                                shear_range=0.1,\n",
        "                                rotation_range=10)\n",
        "\n",
        "dataGen.fit(x_train)\n",
        "batches = dataGen.flow(x_train,y_train,batch_size=6)\n",
        "x_batch, y_batch = next(batches)\n",
        "\n",
        "fig,axs = plt.subplots(1,5,figsize=(20,5))\n",
        "fig.tight_layout()\n",
        "for i in range(5):\n",
        "    axs[i].imshow(x_batch[i].reshape(imageDimensions[0],imageDimensions[1]))\n",
        "    axs[i].axis('off')\n",
        "plt.show()\n",
        "\n",
        "y_train =  to_categorical(y_train,noOfClasses)\n",
        "y_validation = to_categorical(y_validation,noOfClasses)\n",
        "y_test = to_categorical(y_test,noOfClasses)"
      ],
      "metadata": {
        "id": "6jGA3Ystci03"
      },
      "execution_count": null,
      "outputs": []
    },
    {
      "cell_type": "code",
      "source": [
        "def myModel():\n",
        "    no_Of_Filters = 60\n",
        "    size_of_Filter = (5,5)\n",
        "    size_Of_Filter2=(3,3)\n",
        "    size_of_pool=(2,2)\n",
        "    no_Of_Nodes = 500\n",
        "    model= Sequential()\n",
        "    model.add(Conv2D(32,(3,3),activation='relu',kernel_initializer='he_uniform',padding='same', input_shape=(32,32,1)))\n",
        "    model.add(Conv2D(32,(3,3),activation='relu',kernel_initializer='he_uniform',padding='same'))\n",
        "  #model.add(MaxPooling2D((2,2)))\n",
        "\n",
        "\n",
        "    model.add(Conv2D(64,(3,3),activation='relu',kernel_initializer='he_uniform',padding='same'))\n",
        "    #model.add(Conv2D(64,(3,3),activation='relu',kernel_initializer='he_uniform',padding='same'))\n",
        "    model.add(MaxPooling2D((2,2)))\n",
        "\n",
        "    model.add(Conv2D(128,(2,2),activation='relu',kernel_initializer='he_uniform',padding='same'))\n",
        "    #model.add(Conv2D(128,(2,2),activation='relu',kernel_initializer='he_uniform',padding='same'))\n",
        "    model.add(MaxPooling2D((2,2)))\n",
        "\n",
        "\n",
        "    model.add(Flatten())\n",
        "    model.add(Dense(256,activation='relu',kernel_initializer='he_uniform'))\n",
        "    model.add(Dense(3,activation='softmax'))\n",
        "    #model.compile(keras.optimizers.Adam(learning_rate = 0.001),loss='categorical crossentropy',metrics=['accuracy'])\n",
        "    model.compile(\n",
        "        optimizer = 'adam',\n",
        "        loss = 'categorical_crossentropy',\n",
        "        metrics=['accuracy']\n",
        "    )\n",
        "    return model\n",
        "model = myModel()\n",
        "print(model.summary())"
      ],
      "metadata": {
        "id": "OIVswlyMdXYG"
      },
      "execution_count": null,
      "outputs": []
    },
    {
      "cell_type": "code",
      "source": [
        "\n",
        "#history = model.fit(dataGen.flow(x_train,y_train,batch_size = batch_size_val),epochs = epochs_val,validation_data=(x_test,y_test))\n",
        "history = model.fit(x_train,y_train,epochs = epochs_val,validation_data=(x_test,y_test))\n",
        "plt.figure(1)\n",
        "plt.plot(history.history['loss'])\n",
        "plt.plot(history.history['val_loss'])\n",
        "plt.legend(['training','validation'])\n",
        "plt.title('loss')\n",
        "plt.xlabel('epoch')\n",
        "plt.figure(2)\n",
        "plt.plot(history.history['accuracy'])\n",
        "plt.plot(history.history['val_accuracy'])\n",
        "plt.legend(['training','validation'])\n",
        "plt.title('Accuracy')\n",
        "plt.xlabel('epoch')\n",
        "plt.show()\n",
        "\n",
        "model.save('ankhangdang.h5')"
      ],
      "metadata": {
        "colab": {
          "base_uri": "https://localhost:8080/",
          "height": 719
        },
        "id": "P8qL9grzeS1c",
        "outputId": "06c21b2a-7c45-42ef-9e51-1be4b88fa8ba"
      },
      "execution_count": null,
      "outputs": [
        {
          "output_type": "stream",
          "name": "stdout",
          "text": [
            "Epoch 1/4\n",
            "4/4 [==============================] - 1s 69ms/step - loss: 2.6816 - accuracy: 0.6484 - val_loss: 0.5841 - val_accuracy: 0.6500\n",
            "Epoch 2/4\n",
            "4/4 [==============================] - 0s 16ms/step - loss: 0.4435 - accuracy: 0.7656 - val_loss: 0.1490 - val_accuracy: 1.0000\n",
            "Epoch 3/4\n",
            "4/4 [==============================] - 0s 17ms/step - loss: 0.0619 - accuracy: 1.0000 - val_loss: 0.0292 - val_accuracy: 1.0000\n",
            "Epoch 4/4\n",
            "4/4 [==============================] - 0s 16ms/step - loss: 0.0112 - accuracy: 1.0000 - val_loss: 0.0032 - val_accuracy: 1.0000\n"
          ]
        },
        {
          "output_type": "display_data",
          "data": {
            "text/plain": [
              "<Figure size 432x288 with 1 Axes>"
            ],
            "image/png": "[encoded data removed]"
          },
          "metadata": {
            "needs_background": "light"
          }
        },
        {
          "output_type": "display_data",
          "data": {
            "text/plain": [
              "<Figure size 432x288 with 1 Axes>"
            ],
            "image/png": "[encoded data removed]"
          },
          "metadata": {
            "needs_background": "light"
          }
        }
      ]
    },
    {
      "cell_type": "code",
      "source": [
        "from tensorflow.keras.models import load_model\n",
        "model2= load_model('ankhangdang.h5')"
      ],
      "metadata": {
        "id": "drpLNKDOh1lQ"
      },
      "execution_count": null,
      "outputs": []
    },
    {
      "cell_type": "code",
      "source": [
        "from keras.preprocessing.image import load_img\n",
        "from keras.preprocessing.image import img_to_array \n",
        "from keras.models import load_model\n",
        "import numpy as np  "
      ],
      "metadata": {
        "id": "JfPiGlxZlFF4"
      },
      "execution_count": null,
      "outputs": []
    },
    {
      "cell_type": "code",
      "source": [
        "def load_image(filename):\n",
        "\t# load the image\n",
        "\timg = load_img(filename, target_size=(32, 32,1))\t\n",
        "\t\n",
        "\treturn img\n",
        "labels = {\n",
        "    0: 'Dang',\n",
        "    1: 'An',\n",
        "    2: 'Khang'\n",
        "}\n",
        "filename = 'an.jpg'\n",
        "img = load_image(filename)\n",
        "plt.imshow(img)\n",
        "img = img_to_array(img)\n",
        "print('shape is: ',img.shape)\n",
        "img = cv2.cvtColor(img,cv2.COLOR_BGR2GRAY)\n",
        "img = img.reshape(1,32,32,1) \n",
        "img.shape\n",
        "result = model.predict(img)\n",
        "print(result)\n",
        "np.argmax(result) \n",
        "print('This is: ',labels[np.argmax(result)]) "
      ],
      "metadata": {
        "colab": {
          "base_uri": "https://localhost:8080/",
          "height": 321
        },
        "id": "llZf9XbBh_Pn",
        "outputId": "71cad1a0-d003-48e3-f7f3-e76cec277216"
      },
      "execution_count": null,
      "outputs": [
        {
          "output_type": "stream",
          "name": "stdout",
          "text": [
            "shape is:  (32, 32, 3)\n",
            "[[0. 1. 0.]]\n",
            "This is:  An\n"
          ]
        },
        {
          "output_type": "display_data",
          "data": {
            "text/plain": [
              "<Figure size 432x288 with 1 Axes>"
            ],
            "image/png": "[encoded data removed]"
          },
          "metadata": {
            "needs_background": "light"
          }
        }
      ]
    }
  ]
}